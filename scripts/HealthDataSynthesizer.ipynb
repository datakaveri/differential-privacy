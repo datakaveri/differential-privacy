{
 "cells": [
  {
   "cell_type": "code",
   "execution_count": 1,
   "metadata": {},
   "outputs": [
    {
     "name": "stdout",
     "output_type": "stream",
     "text": [
      "Requirement already satisfied: faker in /home/novoneel-iudx/differential-privacy/diffpriv/lib/python3.10/site-packages (24.2.0)\n",
      "Requirement already satisfied: python-dateutil>=2.4 in /home/novoneel-iudx/differential-privacy/diffpriv/lib/python3.10/site-packages (from faker) (2.8.2)\n",
      "Requirement already satisfied: six>=1.5 in /home/novoneel-iudx/differential-privacy/diffpriv/lib/python3.10/site-packages (from python-dateutil>=2.4->faker) (1.16.0)\n",
      "Note: you may need to restart the kernel to use updated packages.\n"
     ]
    }
   ],
   "source": [
    "%pip install faker"
   ]
  },
  {
   "cell_type": "code",
   "execution_count": 2,
   "metadata": {},
   "outputs": [],
   "source": [
    "import random\n",
    "from faker import Faker\n",
    "import numpy as np\n",
    "from datetime import date, timedelta\n",
    "import pandas as pd\n",
    "import json"
   ]
  },
  {
   "cell_type": "code",
   "execution_count": 19,
   "metadata": {},
   "outputs": [],
   "source": [
    "fake = Faker()\n",
    "\n",
    "# Define diagnosis, gender, and medication lists\n",
    "test_results = ['Positive', 'Negative']\n",
    "genders = ['Male', 'Female', 'Other']"
   ]
  },
  {
   "cell_type": "code",
   "execution_count": 4,
   "metadata": {},
   "outputs": [],
   "source": [
    "# fake = Faker()\n",
    "\n",
    "# # Define diagnosis, gender, and medication lists\n",
    "# diagnoses = ['Diabetes', 'Hypertension', 'Asthma', 'Arthritis', 'Depression']\n",
    "# genders = ['Male', 'Female', 'Other']\n",
    "# medications = ['Metformin', 'Lisinopril', 'Albuterol', 'Ibuprofen', 'Fluoxetine']"
   ]
  },
  {
   "cell_type": "code",
   "execution_count": 20,
   "metadata": {},
   "outputs": [],
   "source": [
    "# Generate 10,000 synthetic records\n",
    "records = []\n",
    "for _ in range(10000):\n",
    "    patient_id = f\"P{len(records) + 1:04}\"\n",
    "    name = fake.name()\n",
    "    dob = fake.date_between(date(1940, 1, 1), date(2005, 12, 31))\n",
    "    age = (date.today() - dob).days // 365\n",
    "    gender = random.choice(genders)\n",
    "    address = fake.address()\n",
    "    zip_code = fake.zipcode()\n",
    "    test_result = random.choice(test_results)\n",
    "    lab_results = [random.randint(80, 200) for _ in range(3)]\n",
    "\n",
    "    record = {\n",
    "        'Patient ID': patient_id,\n",
    "        'Name': name,\n",
    "        'Date of Birth': dob.strftime('%Y-%m-%d'),\n",
    "        'Age': age,\n",
    "        'Gender': gender,\n",
    "        'Address': address,\n",
    "        'ZIP Code': zip_code,\n",
    "        'Test Result': test_result,\n",
    "        'Lab Results': lab_results\n",
    "    }\n",
    "    records.append(record)\n",
    "    # add in phone number"
   ]
  },
  {
   "cell_type": "code",
   "execution_count": 21,
   "metadata": {},
   "outputs": [
    {
     "name": "stdout",
     "output_type": "stream",
     "text": [
      "{'Patient ID': 'P0001', 'Name': 'Tara Olson', 'Date of Birth': '1953-09-02', 'Age': 70, 'Gender': 'Other', 'Address': '430 Anderson Extension\\nChristineport, MD 06009', 'ZIP Code': '48889', 'Test Result': 'Negative', 'Lab Results': [162, 172, 193]}\n",
      "\n",
      "{'Patient ID': 'P0002', 'Name': 'Tammy Moore', 'Date of Birth': '1947-03-29', 'Age': 77, 'Gender': 'Male', 'Address': '7397 Darrell Glen\\nWest Gabriela, AS 23970', 'ZIP Code': '72496', 'Test Result': 'Positive', 'Lab Results': [196, 195, 154]}\n",
      "\n",
      "{'Patient ID': 'P0003', 'Name': 'Pamela Bauer', 'Date of Birth': '1946-05-14', 'Age': 77, 'Gender': 'Other', 'Address': '9712 Pham Turnpike Apt. 577\\nNorth Leslie, AR 67768', 'ZIP Code': '17291', 'Test Result': 'Positive', 'Lab Results': [124, 143, 146]}\n",
      "\n",
      "{'Patient ID': 'P0004', 'Name': 'Jason Williams', 'Date of Birth': '1994-10-14', 'Age': 29, 'Gender': 'Male', 'Address': '968 Randall Stream\\nMitchellstad, AR 77792', 'ZIP Code': '52625', 'Test Result': 'Negative', 'Lab Results': [171, 147, 153]}\n",
      "\n",
      "{'Patient ID': 'P0005', 'Name': 'Rita Oconnor', 'Date of Birth': '1987-04-20', 'Age': 36, 'Gender': 'Male', 'Address': '314 Wright Springs Apt. 383\\nJustinfort, WV 80290', 'ZIP Code': '35326', 'Test Result': 'Negative', 'Lab Results': [134, 84, 147]}\n",
      "\n"
     ]
    }
   ],
   "source": [
    "# Print the first 5 records\n",
    "for record in records[:5]:\n",
    "    print(record)\n",
    "    print()"
   ]
  },
  {
   "cell_type": "code",
   "execution_count": 22,
   "metadata": {},
   "outputs": [
    {
     "name": "stdout",
     "output_type": "stream",
     "text": [
      "  Patient ID            Name Date of Birth  Age Gender  \\\n",
      "0      P0001      Tara Olson    1953-09-02   70  Other   \n",
      "1      P0002     Tammy Moore    1947-03-29   77   Male   \n",
      "2      P0003    Pamela Bauer    1946-05-14   77  Other   \n",
      "3      P0004  Jason Williams    1994-10-14   29   Male   \n",
      "4      P0005    Rita Oconnor    1987-04-20   36   Male   \n",
      "\n",
      "                                             Address ZIP Code Test Result  \\\n",
      "0    430 Anderson Extension\\nChristineport, MD 06009    48889    Negative   \n",
      "1         7397 Darrell Glen\\nWest Gabriela, AS 23970    72496    Positive   \n",
      "2  9712 Pham Turnpike Apt. 577\\nNorth Leslie, AR ...    17291    Positive   \n",
      "3         968 Randall Stream\\nMitchellstad, AR 77792    52625    Negative   \n",
      "4  314 Wright Springs Apt. 383\\nJustinfort, WV 80290    35326    Negative   \n",
      "\n",
      "       Lab Results  \n",
      "0  [162, 172, 193]  \n",
      "1  [196, 195, 154]  \n",
      "2  [124, 143, 146]  \n",
      "3  [171, 147, 153]  \n",
      "4   [134, 84, 147]  \n"
     ]
    }
   ],
   "source": [
    "df = pd.DataFrame(records)\n",
    "print(df.head())"
   ]
  },
  {
   "cell_type": "code",
   "execution_count": 16,
   "metadata": {},
   "outputs": [],
   "source": [
    "df.to_csv(\"sampleHealthData_positivity.csv\")"
   ]
  },
  {
   "cell_type": "code",
   "execution_count": 23,
   "metadata": {},
   "outputs": [],
   "source": [
    "df.to_json(\"sampleHealthData_positivity.json\", orient=\"records\")"
   ]
  }
 ],
 "metadata": {
  "kernelspec": {
   "display_name": "diffpriv",
   "language": "python",
   "name": "python3"
  },
  "language_info": {
   "codemirror_mode": {
    "name": "ipython",
    "version": 3
   },
   "file_extension": ".py",
   "mimetype": "text/x-python",
   "name": "python",
   "nbconvert_exporter": "python",
   "pygments_lexer": "ipython3",
   "version": "3.10.12"
  }
 },
 "nbformat": 4,
 "nbformat_minor": 2
}
