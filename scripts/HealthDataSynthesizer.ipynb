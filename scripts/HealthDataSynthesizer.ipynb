{
 "cells": [
  {
   "cell_type": "code",
   "execution_count": 2,
   "metadata": {},
   "outputs": [
    {
     "name": "stdout",
     "output_type": "stream",
     "text": [
      "Requirement already satisfied: faker in /home/novoneel-iudx/differential-privacy/diffpriv/lib/python3.10/site-packages (24.2.0)\n",
      "Requirement already satisfied: python-dateutil>=2.4 in /home/novoneel-iudx/differential-privacy/diffpriv/lib/python3.10/site-packages (from faker) (2.8.2)\n",
      "Requirement already satisfied: six>=1.5 in /home/novoneel-iudx/differential-privacy/diffpriv/lib/python3.10/site-packages (from python-dateutil>=2.4->faker) (1.16.0)\n",
      "Note: you may need to restart the kernel to use updated packages.\n"
     ]
    }
   ],
   "source": [
    "%pip install faker"
   ]
  },
  {
   "cell_type": "code",
   "execution_count": 9,
   "metadata": {},
   "outputs": [],
   "source": [
    "import random\n",
    "from faker import Faker\n",
    "import numpy as np\n",
    "from datetime import date, timedelta\n",
    "import pandas as pd\n",
    "import json"
   ]
  },
  {
   "cell_type": "code",
   "execution_count": 4,
   "metadata": {},
   "outputs": [],
   "source": [
    "fake = Faker()\n",
    "\n",
    "# Define diagnosis, gender, and medication lists\n",
    "diagnoses = ['Diabetes', 'Hypertension', 'Asthma', 'Arthritis', 'Depression']\n",
    "genders = ['Male', 'Female', 'Other']\n",
    "medications = ['Metformin', 'Lisinopril', 'Albuterol', 'Ibuprofen', 'Fluoxetine']"
   ]
  },
  {
   "cell_type": "code",
   "execution_count": 5,
   "metadata": {},
   "outputs": [],
   "source": [
    "# Generate 10,000 synthetic records\n",
    "records = []\n",
    "for _ in range(10000):\n",
    "    patient_id = f\"P{len(records) + 1:04}\"\n",
    "    name = fake.name()\n",
    "    dob = fake.date_between(date(1940, 1, 1), date(2005, 12, 31))\n",
    "    age = (date.today() - dob).days // 365\n",
    "    gender = random.choice(genders)\n",
    "    address = fake.address()\n",
    "    zip_code = fake.zipcode()\n",
    "    diagnosis = random.choice(diagnoses)\n",
    "    medication = random.choice(medications)\n",
    "    lab_results = [random.randint(80, 200) for _ in range(3)]\n",
    "\n",
    "    record = {\n",
    "        'Patient ID': patient_id,\n",
    "        'Name': name,\n",
    "        'Date of Birth': dob.strftime('%Y-%m-%d'),\n",
    "        'Age': age,\n",
    "        'Gender': gender,\n",
    "        'Address': address,\n",
    "        'ZIP Code': zip_code,\n",
    "        'Diagnosis': diagnosis,\n",
    "        'Medication': medication,\n",
    "        'Lab Results': lab_results\n",
    "    }\n",
    "    records.append(record)\n",
    "    # add in phone number\n"
   ]
  },
  {
   "cell_type": "code",
   "execution_count": 6,
   "metadata": {},
   "outputs": [
    {
     "name": "stdout",
     "output_type": "stream",
     "text": [
      "{'Patient ID': 'P0001', 'Name': 'David Peters', 'Date of Birth': '1950-08-11', 'Age': 73, 'Gender': 'Other', 'Address': '1485 Chen Port\\nEast Laurafurt, VA 29311', 'ZIP Code': '83142', 'Diagnosis': 'Depression', 'Medication': 'Lisinopril', 'Lab Results': [101, 189, 195]}\n",
      "\n",
      "{'Patient ID': 'P0002', 'Name': 'Brendan Moody', 'Date of Birth': '1970-02-01', 'Age': 54, 'Gender': 'Male', 'Address': '927 Raymond Ports Suite 331\\nJenniferside, PW 48545', 'ZIP Code': '42179', 'Diagnosis': 'Depression', 'Medication': 'Ibuprofen', 'Lab Results': [177, 106, 168]}\n",
      "\n",
      "{'Patient ID': 'P0003', 'Name': 'Adam Reed', 'Date of Birth': '1955-12-26', 'Age': 68, 'Gender': 'Female', 'Address': '877 Delacruz Tunnel Apt. 192\\nWest Brooke, GA 33458', 'ZIP Code': '69332', 'Diagnosis': 'Diabetes', 'Medication': 'Metformin', 'Lab Results': [190, 135, 102]}\n",
      "\n",
      "{'Patient ID': 'P0004', 'Name': 'Nicole Holmes', 'Date of Birth': '1994-10-03', 'Age': 29, 'Gender': 'Male', 'Address': '675 Aguilar Valley\\nLake Christopher, IA 26576', 'ZIP Code': '39029', 'Diagnosis': 'Asthma', 'Medication': 'Lisinopril', 'Lab Results': [187, 175, 198]}\n",
      "\n",
      "{'Patient ID': 'P0005', 'Name': 'Kenneth Mendoza', 'Date of Birth': '1989-02-02', 'Age': 35, 'Gender': 'Female', 'Address': '8214 Terry Road\\nPort April, SC 90256', 'ZIP Code': '51447', 'Diagnosis': 'Diabetes', 'Medication': 'Metformin', 'Lab Results': [145, 186, 188]}\n",
      "\n"
     ]
    }
   ],
   "source": [
    "# Print the first 5 records\n",
    "for record in records[:5]:\n",
    "    print(record)\n",
    "    print()"
   ]
  },
  {
   "cell_type": "code",
   "execution_count": 7,
   "metadata": {},
   "outputs": [
    {
     "name": "stdout",
     "output_type": "stream",
     "text": [
      "  Patient ID             Name Date of Birth  Age  Gender  \\\n",
      "0      P0001     David Peters    1950-08-11   73   Other   \n",
      "1      P0002    Brendan Moody    1970-02-01   54    Male   \n",
      "2      P0003        Adam Reed    1955-12-26   68  Female   \n",
      "3      P0004    Nicole Holmes    1994-10-03   29    Male   \n",
      "4      P0005  Kenneth Mendoza    1989-02-02   35  Female   \n",
      "\n",
      "                                             Address ZIP Code   Diagnosis  \\\n",
      "0           1485 Chen Port\\nEast Laurafurt, VA 29311    83142  Depression   \n",
      "1  927 Raymond Ports Suite 331\\nJenniferside, PW ...    42179  Depression   \n",
      "2  877 Delacruz Tunnel Apt. 192\\nWest Brooke, GA ...    69332    Diabetes   \n",
      "3     675 Aguilar Valley\\nLake Christopher, IA 26576    39029      Asthma   \n",
      "4              8214 Terry Road\\nPort April, SC 90256    51447    Diabetes   \n",
      "\n",
      "   Medication      Lab Results  \n",
      "0  Lisinopril  [101, 189, 195]  \n",
      "1   Ibuprofen  [177, 106, 168]  \n",
      "2   Metformin  [190, 135, 102]  \n",
      "3  Lisinopril  [187, 175, 198]  \n",
      "4   Metformin  [145, 186, 188]  \n"
     ]
    }
   ],
   "source": [
    "df = pd.DataFrame(records)\n",
    "print(df.head())"
   ]
  },
  {
   "cell_type": "code",
   "execution_count": 11,
   "metadata": {},
   "outputs": [],
   "source": [
    "df.to_json(\"sampleHealthData.json\", orient=\"records\")"
   ]
  }
 ],
 "metadata": {
  "kernelspec": {
   "display_name": "diffpriv",
   "language": "python",
   "name": "python3"
  },
  "language_info": {
   "codemirror_mode": {
    "name": "ipython",
    "version": 3
   },
   "file_extension": ".py",
   "mimetype": "text/x-python",
   "name": "python",
   "nbconvert_exporter": "python",
   "pygments_lexer": "ipython3",
   "version": "3.10.12"
  }
 },
 "nbformat": 4,
 "nbformat_minor": 2
}
